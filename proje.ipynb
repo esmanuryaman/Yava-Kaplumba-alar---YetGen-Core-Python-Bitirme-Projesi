{
 "cells": [
  {
   "cell_type": "code",
   "execution_count": 7,
   "metadata": {},
   "outputs": [
    {
     "name": "stdout",
     "output_type": "stream",
     "text": [
      "Yalova için hava durumu:\n",
      "Sıcaklık: 25.52°C\n",
      "Durum: Açık\n",
      "Uludağ için hava durumu:\n",
      "Sıcaklık: 16.32°C\n",
      "Durum: Parçalı az bulutlu\n",
      "Balıkesir Province için hava durumu:\n",
      "Sıcaklık: 23.98°C\n",
      "Durum: Açık\n"
     ]
    }
   ],
   "source": [
    "import requests\n",
    "\n",
    "apiKey = \"dcbe55c1e3134568a5824acb8fc1ca1a\"\n",
    "baseUrl = \"http://api.openweathermap.org/data/2.5/weather\"\n",
    "\n",
    "def getWeather(cityName):\n",
    "    # URL'i oluştur\n",
    "    url = f\"{baseUrl}?q={cityName}&appid={apiKey}&units=metric&lang=tr\"\n",
    "    \n",
    "    # API'ye istek gönder\n",
    "    try:\n",
    "        response = requests.get(url)\n",
    "        response.raise_for_status()  # Hata kontrolü\n",
    "        return response.json()  # JSON verisini döndür\n",
    "    except requests.exceptions.HTTPError as err:\n",
    "        print(\"HTTP error occurred: \", err)\n",
    "    except Exception as err:\n",
    "        print(\"An error occurred: \", err)\n",
    "\n",
    "def displayWeather(data):\n",
    "    if data:\n",
    "        city = data['name']\n",
    "        temp = data['main']['temp']\n",
    "        description = data['weather'][0]['description']\n",
    "        print(f\"{city} için hava durumu:\\nSıcaklık: {temp}°C\\nDurum: {description.capitalize()}\")\n",
    "    else:\n",
    "        print(\"Hava durumu verisi alınamadı.\")\n",
    "\n",
    "def getCityName():\n",
    "    while True:\n",
    "        cityName = input(\"Hava durumu öğrenmek istediğiniz şehir adını girin: \")\n",
    "        if cityName.strip():\n",
    "            return cityName\n",
    "        else:\n",
    "            print(\"Lütfen geçerli bir şehir adı girin.\")\n",
    "\n",
    "class WeatherApp:\n",
    "    def __init__(self):\n",
    "        self.cityName = \"\"\n",
    "\n",
    "    def run(self):\n",
    "        while True:\n",
    "            self.cityName = getCityName()\n",
    "            weatherData = getWeather(self.cityName)\n",
    "            displayWeather(weatherData)\n",
    "            \n",
    "            cont = input(\"Başka bir şehir için hava durumu öğrenmek ister misiniz? (evet/hayır): \")\n",
    "            if cont.lower() != 'evet':\n",
    "                break\n",
    "\n",
    "if __name__ == \"__main__\":\n",
    "    app = WeatherApp()\n",
    "    app.run()"
   ]
  }
 ],
 "metadata": {
  "kernelspec": {
   "display_name": "Python 3",
   "language": "python",
   "name": "python3"
  },
  "language_info": {
   "codemirror_mode": {
    "name": "ipython",
    "version": 3
   },
   "file_extension": ".py",
   "mimetype": "text/x-python",
   "name": "python",
   "nbconvert_exporter": "python",
   "pygments_lexer": "ipython3",
   "version": "3.12.3"
  }
 },
 "nbformat": 4,
 "nbformat_minor": 2
}
