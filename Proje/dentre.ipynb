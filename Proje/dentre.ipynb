{
 "cells": [
  {
   "cell_type": "code",
   "execution_count": 4,
   "metadata": {},
   "outputs": [
    {
     "ename": "",
     "evalue": "",
     "output_type": "error",
     "traceback": [
      "\u001b[1;31mThe Kernel crashed while executing code in the current cell or a previous cell. \n",
      "\u001b[1;31mPlease review the code in the cell(s) to identify a possible cause of the failure. \n",
      "\u001b[1;31mClick <a href='https://aka.ms/vscodeJupyterKernelCrash'>here</a> for more info. \n",
      "\u001b[1;31mView Jupyter <a href='command:jupyter.viewOutput'>log</a> for further details."
     ]
    }
   ],
   "source": [
    "import requests\n",
    "from tkinter import Tk, Label, Entry, Button, StringVar\n",
    "from tkinter import font\n",
    "\n",
    "class WeatherApp:\n",
    "    def __init__(self, root):\n",
    "        self.apiKey = \"dcbe55c1e3134568a5824acb8fc1ca1a\"  # API anahtarınızı buraya ekleyin\n",
    "        self.apiUrl = \"http://api.openweathermap.org/data/2.5/weather\"\n",
    "        self.root = root\n",
    "        self.root.title(\"Weather App\")\n",
    "        self.root.configure(bg='#ffe6e6')  # Arka planı açık pembe yap\n",
    "        \n",
    "        # New York Times fontunu ayarla\n",
    "        self.customFont = font.Font(family=\"Arial\", size=12, weight=\"bold\")\n",
    "\n",
    "        # Şehir etiketi\n",
    "        self.cityLabel = Label(root, text=\"Şehir İsmi:\", bg='#ffe6e6', font=self.customFont)\n",
    "        self.cityLabel.pack(pady=10)\n",
    "\n",
    "        # Şehir girişi\n",
    "        self.cityEntry = Entry(root, font=self.customFont)\n",
    "        self.cityEntry.pack(pady=5)\n",
    "\n",
    "        # Hava durumu gösterme etiketi\n",
    "        self.weatherLabel = Label(root, text=\"\", bg='#ffe6e6', font=self.customFont)\n",
    "        self.weatherLabel.pack(pady=10)\n",
    "\n",
    "        # Buton\n",
    "        self.submitButton = Button(root, text=\"Hava Durumunu Al\", command=self.getWeatherData, font=self.customFont, bg='#ffcccc')\n",
    "        self.submitButton.pack(pady=5)\n",
    "\n",
    "    def getWeatherData(self):\n",
    "        city = self.cityEntry.get()\n",
    "        if not city:\n",
    "            self.weatherLabel.config(text=\"Lütfen bir şehir ismi girin.\")\n",
    "            return\n",
    "\n",
    "        try:\n",
    "            response = requests.get(self.apiUrl, params={\n",
    "                \"q\": city,\n",
    "                \"appid\": self.apiKey,\n",
    "                \"units\": \"metric\",\n",
    "                \"lang\": \"tr\"\n",
    "            })\n",
    "            data = response.json()\n",
    "            \n",
    "            if response.status_code != 200:\n",
    "                raise ValueError(\"Geçersiz şehir ismi veya API hatası.\")\n",
    "            \n",
    "            temp = data[\"main\"][\"temp\"]\n",
    "            description = data[\"weather\"][0][\"description\"].capitalize()\n",
    "            self.weatherLabel.config(text=f\"{city}: {temp}°C, {description}\")\n",
    "        except Exception as e:\n",
    "            self.weatherLabel.config(text=str(e))\n",
    "\n",
    "def main():\n",
    "    root = Tk()\n",
    "    app = WeatherApp(root)\n",
    "    root.mainloop()\n",
    "\n",
    "if __name__ == \"__main__\":\n",
    "    main()"
   ]
  }
 ],
 "metadata": {
  "kernelspec": {
   "display_name": "Python 3",
   "language": "python",
   "name": "python3"
  },
  "language_info": {
   "codemirror_mode": {
    "name": "ipython",
    "version": 3
   },
   "file_extension": ".py",
   "mimetype": "text/x-python",
   "name": "python",
   "nbconvert_exporter": "python",
   "pygments_lexer": "ipython3",
   "version": "3.12.3"
  }
 },
 "nbformat": 4,
 "nbformat_minor": 2
}
