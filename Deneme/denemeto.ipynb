{
 "cells": [
  {
   "cell_type": "code",
   "execution_count": 3,
   "metadata": {},
   "outputs": [
    {
     "ename": "FileNotFoundError",
     "evalue": "[Errno 2] No such file or directory: 'C:\\\\Users\\\\asus\\\\Documents\\\\GitHub\\\\Yavas-Kamplumbaglar-YetGen-Core-Python-Bitirme-Projesi\\\\Deneme\\\\jump.png'",
     "output_type": "error",
     "traceback": [
      "\u001b[1;31m---------------------------------------------------------------------------\u001b[0m",
      "\u001b[1;31mFileNotFoundError\u001b[0m                         Traceback (most recent call last)",
      "Cell \u001b[1;32mIn[3], line 40\u001b[0m\n\u001b[0;32m     38\u001b[0m \u001b[38;5;66;03m# Uygulamanın çalışması için gereken kod\u001b[39;00m\n\u001b[0;32m     39\u001b[0m pencere \u001b[38;5;241m=\u001b[39m tk\u001b[38;5;241m.\u001b[39mTk()\n\u001b[1;32m---> 40\u001b[0m uygulama \u001b[38;5;241m=\u001b[39m \u001b[43mHavaDurumuUygulamasi\u001b[49m\u001b[43m(\u001b[49m\u001b[43mpencere\u001b[49m\u001b[43m)\u001b[49m\n\u001b[0;32m     41\u001b[0m pencere\u001b[38;5;241m.\u001b[39mmainloop()\n",
      "Cell \u001b[1;32mIn[3], line 11\u001b[0m, in \u001b[0;36mHavaDurumuUygulamasi.__init__\u001b[1;34m(self, pencere)\u001b[0m\n\u001b[0;32m      8\u001b[0m \u001b[38;5;28mself\u001b[39m\u001b[38;5;241m.\u001b[39mpencere\u001b[38;5;241m.\u001b[39mgeometry(\u001b[38;5;124m\"\u001b[39m\u001b[38;5;124m600x400\u001b[39m\u001b[38;5;124m\"\u001b[39m)  \u001b[38;5;66;03m# Pencere boyutunu ayarlama\u001b[39;00m\n\u001b[0;32m     10\u001b[0m \u001b[38;5;66;03m# Arka plan resmini ekle\u001b[39;00m\n\u001b[1;32m---> 11\u001b[0m \u001b[38;5;28mself\u001b[39m\u001b[38;5;241m.\u001b[39markaPlanResmi \u001b[38;5;241m=\u001b[39m \u001b[43mImage\u001b[49m\u001b[38;5;241;43m.\u001b[39;49m\u001b[43mopen\u001b[49m\u001b[43m(\u001b[49m\u001b[38;5;124;43m\"\u001b[39;49m\u001b[38;5;124;43mjump.png\u001b[39;49m\u001b[38;5;124;43m\"\u001b[39;49m\u001b[43m)\u001b[49m  \u001b[38;5;66;03m# Doğru dosya adı ve uzantısı\u001b[39;00m\n\u001b[0;32m     12\u001b[0m \u001b[38;5;28mself\u001b[39m\u001b[38;5;241m.\u001b[39markaPlanResmi \u001b[38;5;241m=\u001b[39m \u001b[38;5;28mself\u001b[39m\u001b[38;5;241m.\u001b[39markaPlanResmi\u001b[38;5;241m.\u001b[39mresize((\u001b[38;5;241m600\u001b[39m, \u001b[38;5;241m400\u001b[39m), Image\u001b[38;5;241m.\u001b[39mANTIALIAS)\n\u001b[0;32m     13\u001b[0m \u001b[38;5;28mself\u001b[39m\u001b[38;5;241m.\u001b[39markaPlanResmiTk \u001b[38;5;241m=\u001b[39m ImageTk\u001b[38;5;241m.\u001b[39mPhotoImage(\u001b[38;5;28mself\u001b[39m\u001b[38;5;241m.\u001b[39markaPlanResmi)\n",
      "File \u001b[1;32mc:\\Users\\asus\\AppData\\Local\\Programs\\Python\\Python312\\Lib\\site-packages\\PIL\\Image.py:3431\u001b[0m, in \u001b[0;36mopen\u001b[1;34m(fp, mode, formats)\u001b[0m\n\u001b[0;32m   3428\u001b[0m     filename \u001b[38;5;241m=\u001b[39m os\u001b[38;5;241m.\u001b[39mpath\u001b[38;5;241m.\u001b[39mrealpath(os\u001b[38;5;241m.\u001b[39mfspath(fp))\n\u001b[0;32m   3430\u001b[0m \u001b[38;5;28;01mif\u001b[39;00m filename:\n\u001b[1;32m-> 3431\u001b[0m     fp \u001b[38;5;241m=\u001b[39m \u001b[43mbuiltins\u001b[49m\u001b[38;5;241;43m.\u001b[39;49m\u001b[43mopen\u001b[49m\u001b[43m(\u001b[49m\u001b[43mfilename\u001b[49m\u001b[43m,\u001b[49m\u001b[43m \u001b[49m\u001b[38;5;124;43m\"\u001b[39;49m\u001b[38;5;124;43mrb\u001b[39;49m\u001b[38;5;124;43m\"\u001b[39;49m\u001b[43m)\u001b[49m\n\u001b[0;32m   3432\u001b[0m     exclusive_fp \u001b[38;5;241m=\u001b[39m \u001b[38;5;28;01mTrue\u001b[39;00m\n\u001b[0;32m   3433\u001b[0m \u001b[38;5;28;01melse\u001b[39;00m:\n",
      "\u001b[1;31mFileNotFoundError\u001b[0m: [Errno 2] No such file or directory: 'C:\\\\Users\\\\asus\\\\Documents\\\\GitHub\\\\Yavas-Kamplumbaglar-YetGen-Core-Python-Bitirme-Projesi\\\\Deneme\\\\jump.png'"
     ]
    }
   ],
   "source": [
    "import tkinter as tk\n",
    "from PIL import Image, ImageTk\n",
    "\n",
    "class HavaDurumuUygulamasi:\n",
    "    def __init__(self, pencere):\n",
    "        self.pencere = pencere\n",
    "        self.pencere.title(\"Hava Durumu\")  # Başlığı güncelle\n",
    "        self.pencere.geometry(\"600x400\")  # Pencere boyutunu ayarlama\n",
    "\n",
    "        # Arka plan resmini ekle\n",
    "        self.arkaPlanResmi = Image.open(\"jump.png\")  # Doğru dosya adı ve uzantısı\n",
    "        self.arkaPlanResmi = self.arkaPlanResmi.resize((600, 400), Image.ANTIALIAS)\n",
    "        self.arkaPlanResmiTk = ImageTk.PhotoImage(self.arkaPlanResmi)\n",
    "\n",
    "        self.arkaPlanLabel = tk.Label(pencere, image=self.arkaPlanResmiTk)\n",
    "        self.arkaPlanLabel.place(relwidth=1, relheight=1)\n",
    "\n",
    "        # Şehir adı girmek için bir etiket ve giriş kutusu\n",
    "        self.etiket = tk.Label(pencere, text=\"Şehir Adı:\", bg=\"#FFC0CB\", font=(\"Century Gothic\", 14, \"bold\"), fg=\"#008000\")  # Fıstık yeşili\n",
    "        self.etiket.pack(pady=10)\n",
    "\n",
    "        self.sehirGirisi = tk.Entry(pencere, font=(\"Century Gothic\", 14), borderwidth=2, relief=\"groove\")\n",
    "        self.sehirGirisi.pack(pady=10, padx=20, fill='x')\n",
    "\n",
    "        # Hava durumunu gösteren buton\n",
    "        self.buton = tk.Button(pencere, text=\"Hava Durumunu Göster\", command=self.havaDurumunuGoster, font=(\"Century Gothic\", 14, \"bold\"), bg=\"#9ACD32\", fg=\"black\", relief=\"raised\")  # Fıstık yeşili\n",
    "        self.buton.pack(pady=10)\n",
    "\n",
    "        # Sonuçları göstermek için bir etiket\n",
    "        self.sonucEtiketi = tk.Label(pencere, text=\"\", fg=\"#008000\", bg=\"#FFC0CB\", font=(\"Century Gothic\", 14))  # Fıstık yeşili\n",
    "        self.sonucEtiketi.pack(pady=10)\n",
    "\n",
    "    # Hava durumunu gösteren fonksiyon\n",
    "    def havaDurumunuGoster(self):\n",
    "        # Hava durumu gösterme kodu\n",
    "        pass\n",
    "\n",
    "# Uygulamanın çalışması için gereken kod\n",
    "pencere = tk.Tk()\n",
    "uygulama = HavaDurumuUygulamasi(pencere)\n",
    "pencere.mainloop()"
   ]
  }
 ],
 "metadata": {
  "kernelspec": {
   "display_name": "Python 3",
   "language": "python",
   "name": "python3"
  },
  "language_info": {
   "codemirror_mode": {
    "name": "ipython",
    "version": 3
   },
   "file_extension": ".py",
   "mimetype": "text/x-python",
   "name": "python",
   "nbconvert_exporter": "python",
   "pygments_lexer": "ipython3",
   "version": "3.12.3"
  }
 },
 "nbformat": 4,
 "nbformat_minor": 2
}
